{
 "cells": [
  {
   "cell_type": "code",
   "execution_count": 1,
   "id": "e2b0d7d0",
   "metadata": {},
   "outputs": [],
   "source": [
    "import math \n",
    "import numpy as np"
   ]
  },
  {
   "cell_type": "markdown",
   "id": "88faded9",
   "metadata": {},
   "source": [
    "## Section 1:  Probabilities "
   ]
  },
  {
   "cell_type": "markdown",
   "id": "b785626f",
   "metadata": {},
   "source": [
    "\n",
    "\n",
    "### Given that \n",
    "### P(A) = 0.8 \n",
    "### P(B) = 0.4 \n",
    "### P(B|A) = 0.3\n",
    "\n",
    "### What is P(A and B) if A and B are mutually exclusive?  "
   ]
  },
  {
   "cell_type": "code",
   "execution_count": 2,
   "id": "135be165",
   "metadata": {},
   "outputs": [],
   "source": [
    "#Begin Solution \n",
    "\n",
    "\n",
    "\n",
    "#End Solution "
   ]
  },
  {
   "cell_type": "markdown",
   "id": "5ee87efe",
   "metadata": {},
   "source": [
    "### What is P(A and B) if A and B are mutually inclusive?  "
   ]
  },
  {
   "cell_type": "code",
   "execution_count": 3,
   "id": "1d5c97cc",
   "metadata": {},
   "outputs": [],
   "source": [
    "#Begin Solution \n",
    "\n",
    "\n",
    "#End Solution "
   ]
  },
  {
   "cell_type": "markdown",
   "id": "81c30b4e",
   "metadata": {},
   "source": [
    "### What is P(A or B) if A and B are mutually exclusive?"
   ]
  },
  {
   "cell_type": "code",
   "execution_count": 4,
   "id": "402571b3",
   "metadata": {},
   "outputs": [],
   "source": [
    "#Begin Solution \n",
    "\n",
    "\n",
    "#End Solution "
   ]
  },
  {
   "cell_type": "markdown",
   "id": "8c6f9b83",
   "metadata": {},
   "source": [
    "### What is P(A or B) if A and B are mutually inclusive? "
   ]
  },
  {
   "cell_type": "code",
   "execution_count": 5,
   "id": "21162d2b",
   "metadata": {},
   "outputs": [],
   "source": [
    "#Begin Solution \n",
    "\n",
    "\n",
    "\n",
    "#End Solution "
   ]
  },
  {
   "cell_type": "markdown",
   "id": "0f20dbaa",
   "metadata": {},
   "source": [
    "## Section 2:  Normal Distributions "
   ]
  },
  {
   "cell_type": "markdown",
   "id": "ad9be25c",
   "metadata": {},
   "source": [
    "## In this part, you will analyze hours of sleep for Freshman at a University. We know that the population distribution of hours of sleep for Freshman at the University is normally distributed with a mean of 6 and a standard deviation of 2\n",
    "\n"
   ]
  },
  {
   "cell_type": "markdown",
   "id": "ff4c28a1",
   "metadata": {},
   "source": [
    "### Create a numeric variable z_eight that contains the z-score for a Freshman that sleeps 8 hours "
   ]
  },
  {
   "cell_type": "code",
   "execution_count": null,
   "id": "934d6382",
   "metadata": {},
   "outputs": [],
   "source": [
    "#Begin Solution \n",
    "\n",
    "z_eight = None \n",
    "\n",
    "#End Solution \n"
   ]
  },
  {
   "cell_type": "markdown",
   "id": "c1e5123a",
   "metadata": {},
   "source": [
    "### Create a numeric variable z_over_eight containing the approximate proportion of Freshman who get more than 8 hours of sleep "
   ]
  },
  {
   "cell_type": "code",
   "execution_count": null,
   "id": "59b4811d",
   "metadata": {},
   "outputs": [],
   "source": [
    "#Begin Solution \n",
    "\n",
    "z_over_eight = None \n",
    "\n",
    "#End Soltuion "
   ]
  },
  {
   "cell_type": "markdown",
   "id": "c368c6a5",
   "metadata": {},
   "source": [
    "### Create numeric variables conf_low and conf_high containing the lower and upper bounds (respectively) of a 95% confidence interval for the mean of one Freshman's sleep hours using the information below.¶\n",
    "### One week, a Freshman sleeps 7 times with a mean of 5 hours and a standard deviation of 0.5 hours \n",
    "\n"
   ]
  },
  {
   "cell_type": "code",
   "execution_count": null,
   "id": "ac741c07",
   "metadata": {},
   "outputs": [],
   "source": [
    "#Begin Solution \n",
    "\n",
    "Starter Code\n",
    "\n",
    "n = 7\n",
    "mean = 5\n",
    "std = 0.5\n",
    "\n",
    "#Calculate Standard Error \n",
    "sterr = \n",
    "\n",
    "# 95% confidence interval has z-score of +- 1.96\n",
    "conf_low = \n",
    "conf_high = \n",
    "\n",
    "#End Solution "
   ]
  },
  {
   "cell_type": "markdown",
   "id": "3f4daff9",
   "metadata": {},
   "source": [
    "### Interpret the 95% Confidence Interval that you derived in the above question"
   ]
  },
  {
   "cell_type": "markdown",
   "id": "aaf4701f",
   "metadata": {},
   "source": [
    "###Solution below (edit this box)"
   ]
  },
  {
   "cell_type": "markdown",
   "id": "11280385",
   "metadata": {},
   "source": [
    "## Section 3:  Bayes' Theorem (Conditional Probabilities)"
   ]
  },
  {
   "cell_type": "markdown",
   "id": "d303cce8",
   "metadata": {},
   "source": [
    "$$ P(A|B) = \\dfrac{P(B|A)P(A)}{P(B)}$$"
   ]
  },
  {
   "cell_type": "markdown",
   "id": "db6528ad",
   "metadata": {},
   "source": [
    "### A medical test is designed to diagnose a certain disease. The test has a false positive rate of 8%, meaning that 8% of people without the disease will get a positive test result. The test has a false negative rate of 3%, meaning that 3% of people with the disease will get a negative result. Only 1% of the population has this disease.\n",
    "\n"
   ]
  },
  {
   "cell_type": "markdown",
   "id": "08a18686",
   "metadata": {},
   "source": [
    "### Question:  Create a numeric variable p_pos_test containing the probability of a person receiving a positive test result.\n",
    "### Assume that the person being tested is randomly selected from the broader population.\n",
    "\n"
   ]
  },
  {
   "cell_type": "code",
   "execution_count": null,
   "id": "03aa56f5",
   "metadata": {},
   "outputs": [],
   "source": [
    "Starter Code\n",
    "\n",
    "false_pos_rate = 0.08\n",
    "false_neg_rate = 0.03\n",
    "population_rate = 0.01\n",
    "\n",
    "p_pos_test = "
   ]
  }
 ],
 "metadata": {
  "kernelspec": {
   "display_name": "Python 3",
   "language": "python",
   "name": "python3"
  },
  "language_info": {
   "codemirror_mode": {
    "name": "ipython",
    "version": 3
   },
   "file_extension": ".py",
   "mimetype": "text/x-python",
   "name": "python",
   "nbconvert_exporter": "python",
   "pygments_lexer": "ipython3",
   "version": "3.8.8"
  }
 },
 "nbformat": 4,
 "nbformat_minor": 5
}
